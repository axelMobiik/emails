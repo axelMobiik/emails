{
 "cells": [
  {
   "cell_type": "markdown",
   "id": "9027f5e0-045f-48f8-bbf8-a5a02059ff4c",
   "metadata": {},
   "source": [
    "<h1>Emails with Python</h1>\n",
    "<li>In this section we will explore how to send emails with Python and how to check our inbox for received messages</li>\n",
    "<li>Please keep in mind this process is highly reliant on admin privileges on both your local computer, your internet and your email</li>\n",
    "<li>It is highly likely that on a corporate network, work computer, or work email these methods will be blocked for security reasons</li>\n",
    "<li>If you encounter issues due to this, please contect your IT department, as it is not an issue we can fix on our end</li>\n",
    "<li>Lastly, there is no full exercise for these lecture topics, since there is no real way to can create true self-assessments for a personal email address</li>\n",
    "<li>However, we do provide a notebook with some ideas for you to explore, we encourage you to get creative</li>"
   ]
  },
  {
   "cell_type": "markdown",
   "id": "ee26dc9e-996f-49ec-acd5-a12e0920b5f1",
   "metadata": {},
   "source": [
    "<h2>Sending Emails</h2>\n",
    "<li>To send emails with Python, we need to manually go through the steps of connecting to an email server, confirming connection, setting a protocol, logging on, and sending the message</li>\n",
    "<li>Fortunately the built-in smtplib library in Python makes these steps simple function calls</li>\n",
    "<li>Each major email provider has their own SMTP (Simple Mail Transfer Protocol) Server</li>\n",
    "<li>>Provider | SMTP server domain name</li>\n",
    "<li>>> Gmail (aill need app password) | smtp.gmail.com</li>\n",
    "<li>>> Yahoo Mail | smtp.mail.yahoo.com</li>\n",
    "<li>>> Outlook.com/Hotmail.com | smtp-mail.outlook.com</li>\n",
    "<li>>> AT&T | smtp.mail.att.net (Use port 465)</li>\n",
    "<li>>> Verizon | smtp.verizon.net (Use port 465)</li>\n",
    "<li>>> Comcast | smtp.comcast.net</li>\n",
    "<li>We will go over this process with a Gmail account</li>\n",
    "<li>For gmail users, you will need to generate an app password instead of your normal password</li>\n",
    "<li>This let's Gmail know that the Python script attempting to access you account is authorized by you</li>"
   ]
  },
  {
   "cell_type": "code",
   "execution_count": 2,
   "id": "8008d57e-6ddd-456c-87b4-ec6630e66b36",
   "metadata": {},
   "outputs": [],
   "source": [
    "import smtplib"
   ]
  },
  {
   "cell_type": "code",
   "execution_count": 3,
   "id": "d91471da-c52d-4247-949b-33794825d89f",
   "metadata": {},
   "outputs": [],
   "source": [
    "smtp_object = smtplib.SMTP('smtp.gmail.com', 587)"
   ]
  },
  {
   "cell_type": "code",
   "execution_count": 4,
   "id": "7281103c-e7dc-4f74-bc1b-12a8ee55af1e",
   "metadata": {},
   "outputs": [
    {
     "data": {
      "text/plain": [
       "(250,\n",
       " b'smtp.gmail.com at your service, [201.130.167.180]\\nSIZE 35882577\\n8BITMIME\\nSTARTTLS\\nENHANCEDSTATUSCODES\\nPIPELINING\\nCHUNKING\\nSMTPUTF8')"
      ]
     },
     "execution_count": 4,
     "metadata": {},
     "output_type": "execute_result"
    }
   ],
   "source": [
    "smtp_object.ehlo()"
   ]
  },
  {
   "cell_type": "code",
   "execution_count": 5,
   "id": "faa982b3-6802-400e-8506-49a7a14e5bcf",
   "metadata": {},
   "outputs": [
    {
     "data": {
      "text/plain": [
       "(220, b'2.0.0 Ready to start TLS')"
      ]
     },
     "execution_count": 5,
     "metadata": {},
     "output_type": "execute_result"
    }
   ],
   "source": [
    "smtp_object.starttls()"
   ]
  },
  {
   "cell_type": "code",
   "execution_count": 6,
   "id": "5c713341-490a-48b1-846f-1a0cd3603e7d",
   "metadata": {},
   "outputs": [
    {
     "name": "stdin",
     "output_type": "stream",
     "text": [
      "What is your password:  visible dkd\n"
     ]
    }
   ],
   "source": [
    "password = input('What is your password: ')"
   ]
  },
  {
   "cell_type": "code",
   "execution_count": 7,
   "id": "29c8c284-e6f4-4e48-9820-ebd325be1b7b",
   "metadata": {},
   "outputs": [],
   "source": [
    "import getpass"
   ]
  },
  {
   "cell_type": "code",
   "execution_count": 8,
   "id": "b93ac7aa-e0c4-48b0-a4eb-2807381709de",
   "metadata": {},
   "outputs": [
    {
     "name": "stdin",
     "output_type": "stream",
     "text": [
      "Password please:  ········\n"
     ]
    }
   ],
   "source": [
    "password = getpass.getpass('Password please: ')"
   ]
  },
  {
   "cell_type": "code",
   "execution_count": 9,
   "id": "5f1c686d-e8fd-4147-ac39-a907e1f6bcea",
   "metadata": {},
   "outputs": [
    {
     "name": "stdin",
     "output_type": "stream",
     "text": [
      "Email:  ········\n",
      "Password:  ········\n"
     ]
    },
    {
     "ename": "SMTPAuthenticationError",
     "evalue": "(534, b'5.7.9 Application-specific password required. For more information, go to\\n5.7.9  https://support.google.com/mail/?p=InvalidSecondFactor s12-20020a63924c000000b005f7d61ec8afsm1381928pgn.91 - gsmtp')",
     "output_type": "error",
     "traceback": [
      "\u001b[1;31m---------------------------------------------------------------------------\u001b[0m",
      "\u001b[1;31mSMTPAuthenticationError\u001b[0m                   Traceback (most recent call last)",
      "Cell \u001b[1;32mIn[9], line 3\u001b[0m\n\u001b[0;32m      1\u001b[0m email \u001b[38;5;241m=\u001b[39m getpass\u001b[38;5;241m.\u001b[39mgetpass(\u001b[38;5;124m'\u001b[39m\u001b[38;5;124mEmail: \u001b[39m\u001b[38;5;124m'\u001b[39m)\n\u001b[0;32m      2\u001b[0m password \u001b[38;5;241m=\u001b[39m getpass\u001b[38;5;241m.\u001b[39mgetpass(\u001b[38;5;124m'\u001b[39m\u001b[38;5;124mPassword: \u001b[39m\u001b[38;5;124m'\u001b[39m)\n\u001b[1;32m----> 3\u001b[0m smtp_object\u001b[38;5;241m.\u001b[39mlogin(email, password)\n",
      "File \u001b[1;32m~\\AppData\\Local\\anaconda3\\Lib\\smtplib.py:750\u001b[0m, in \u001b[0;36mSMTP.login\u001b[1;34m(self, user, password, initial_response_ok)\u001b[0m\n\u001b[0;32m    747\u001b[0m         last_exception \u001b[38;5;241m=\u001b[39m e\n\u001b[0;32m    749\u001b[0m \u001b[38;5;66;03m# We could not login successfully.  Return result of last attempt.\u001b[39;00m\n\u001b[1;32m--> 750\u001b[0m \u001b[38;5;28;01mraise\u001b[39;00m last_exception\n",
      "File \u001b[1;32m~\\AppData\\Local\\anaconda3\\Lib\\smtplib.py:739\u001b[0m, in \u001b[0;36mSMTP.login\u001b[1;34m(self, user, password, initial_response_ok)\u001b[0m\n\u001b[0;32m    737\u001b[0m method_name \u001b[38;5;241m=\u001b[39m \u001b[38;5;124m'\u001b[39m\u001b[38;5;124mauth_\u001b[39m\u001b[38;5;124m'\u001b[39m \u001b[38;5;241m+\u001b[39m authmethod\u001b[38;5;241m.\u001b[39mlower()\u001b[38;5;241m.\u001b[39mreplace(\u001b[38;5;124m'\u001b[39m\u001b[38;5;124m-\u001b[39m\u001b[38;5;124m'\u001b[39m, \u001b[38;5;124m'\u001b[39m\u001b[38;5;124m_\u001b[39m\u001b[38;5;124m'\u001b[39m)\n\u001b[0;32m    738\u001b[0m \u001b[38;5;28;01mtry\u001b[39;00m:\n\u001b[1;32m--> 739\u001b[0m     (code, resp) \u001b[38;5;241m=\u001b[39m \u001b[38;5;28mself\u001b[39m\u001b[38;5;241m.\u001b[39mauth(\n\u001b[0;32m    740\u001b[0m         authmethod, \u001b[38;5;28mgetattr\u001b[39m(\u001b[38;5;28mself\u001b[39m, method_name),\n\u001b[0;32m    741\u001b[0m         initial_response_ok\u001b[38;5;241m=\u001b[39minitial_response_ok)\n\u001b[0;32m    742\u001b[0m     \u001b[38;5;66;03m# 235 == 'Authentication successful'\u001b[39;00m\n\u001b[0;32m    743\u001b[0m     \u001b[38;5;66;03m# 503 == 'Error: already authenticated'\u001b[39;00m\n\u001b[0;32m    744\u001b[0m     \u001b[38;5;28;01mif\u001b[39;00m code \u001b[38;5;129;01min\u001b[39;00m (\u001b[38;5;241m235\u001b[39m, \u001b[38;5;241m503\u001b[39m):\n",
      "File \u001b[1;32m~\\AppData\\Local\\anaconda3\\Lib\\smtplib.py:662\u001b[0m, in \u001b[0;36mSMTP.auth\u001b[1;34m(self, mechanism, authobject, initial_response_ok)\u001b[0m\n\u001b[0;32m    660\u001b[0m \u001b[38;5;28;01mif\u001b[39;00m code \u001b[38;5;129;01min\u001b[39;00m (\u001b[38;5;241m235\u001b[39m, \u001b[38;5;241m503\u001b[39m):\n\u001b[0;32m    661\u001b[0m     \u001b[38;5;28;01mreturn\u001b[39;00m (code, resp)\n\u001b[1;32m--> 662\u001b[0m \u001b[38;5;28;01mraise\u001b[39;00m SMTPAuthenticationError(code, resp)\n",
      "\u001b[1;31mSMTPAuthenticationError\u001b[0m: (534, b'5.7.9 Application-specific password required. For more information, go to\\n5.7.9  https://support.google.com/mail/?p=InvalidSecondFactor s12-20020a63924c000000b005f7d61ec8afsm1381928pgn.91 - gsmtp')"
     ]
    }
   ],
   "source": [
    "email = getpass.getpass('Email: ')\n",
    "password = getpass.getpass('Password: ')\n",
    "smtp_object.login(email, password)"
   ]
  },
  {
   "cell_type": "markdown",
   "id": "d682b737-9835-4e80-8d4e-1c1a94ab1441",
   "metadata": {},
   "source": [
    "<h2>Reveiving Emails with Python</h2>\n",
    "<li>To view received emails with Python we can use the built in imaplib and email libraries in Python</li>\n",
    "<li>The imaplib library has special syntax for searching your Inbox</li>\n",
    "<li>Before beginning this discussion, send yourself a test email with a unique subject line that you will be able to remember and search for using Python</li>"
   ]
  },
  {
   "cell_type": "code",
   "execution_count": null,
   "id": "4b88e5ee-decd-4d13-a6da-eaabddded172",
   "metadata": {},
   "outputs": [],
   "source": []
  }
 ],
 "metadata": {
  "kernelspec": {
   "display_name": "Python 3 (ipykernel)",
   "language": "python",
   "name": "python3"
  },
  "language_info": {
   "codemirror_mode": {
    "name": "ipython",
    "version": 3
   },
   "file_extension": ".py",
   "mimetype": "text/x-python",
   "name": "python",
   "nbconvert_exporter": "python",
   "pygments_lexer": "ipython3",
   "version": "3.11.7"
  }
 },
 "nbformat": 4,
 "nbformat_minor": 5
}
